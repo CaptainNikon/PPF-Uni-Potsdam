{
 "cells": [
  {
   "cell_type": "code",
   "execution_count": 6,
   "id": "70934a94",
   "metadata": {},
   "outputs": [],
   "source": [
    "import numpy as np\n",
    "from pylab import * \n",
    "import matplotlib.pyplot as plt\n",
    "\n",
    "def conv(x):\n",
    "    return x.replace(\",\", \".\").encode()\n",
    "%matplotlib inline"
   ]
  },
  {
   "cell_type": "code",
   "execution_count": 7,
   "id": "2fd307c0",
   "metadata": {},
   "outputs": [
    {
     "ename": "SyntaxError",
     "evalue": "cannot assign to operator (1163388314.py, line 4)",
     "output_type": "error",
     "traceback": [
      "\u001b[0;36m  File \u001b[0;32m\"/var/folders/wl/d_f20hj90tdbcqmnlrhwdgvm0000gn/T/ipykernel_7644/1163388314.py\"\u001b[0;36m, line \u001b[0;32m4\u001b[0m\n\u001b[0;31m    salt+pvdf-trfe_a4_apm = genfromtxt((conv(x) for x in open(\"Aufgabe 4 Festkörper/salt+pvdf-trfe_a4_apm.CSV\")), delimiter =\";\")\u001b[0m\n\u001b[0m    ^\u001b[0m\n\u001b[0;31mSyntaxError\u001b[0m\u001b[0;31m:\u001b[0m cannot assign to operator\n"
     ]
    }
   ],
   "source": [
    "altcrystal1_a4_Apm = genfromtxt((conv(x) for x in open(\"Aufgabe 4 Festkörper/altcrystal1_a4_Apm.CSV\")), delimiter =\";\")\n",
    "methan_A05_2ndtry = genfromtxt((conv(x) for x in open(\"Aufgabe 4 Festkörper/methan_A0.5_2ndtry.CSV\")), delimiter =\";\")\n",
    "methan1_std_A4 = genfromtxt((conv(x) for x in open(\"Aufgabe 4 Festkörper/methan1_std_A4.CSV\")), delimiter =\";\")\n",
    "salt+pvdf-trfe_a4_apm = genfromtxt((conv(x) for x in open(\"Aufgabe 4 Festkörper/salt+pvdf-trfe_a4_apm.CSV\")), delimiter =\";\")"
   ]
  },
  {
   "cell_type": "code",
   "execution_count": null,
   "id": "dea21b2a",
   "metadata": {},
   "outputs": [],
   "source": []
  }
 ],
 "metadata": {
  "kernelspec": {
   "display_name": "Python 3 (ipykernel)",
   "language": "python",
   "name": "python3"
  },
  "language_info": {
   "codemirror_mode": {
    "name": "ipython",
    "version": 3
   },
   "file_extension": ".py",
   "mimetype": "text/x-python",
   "name": "python",
   "nbconvert_exporter": "python",
   "pygments_lexer": "ipython3",
   "version": "3.9.7"
  }
 },
 "nbformat": 4,
 "nbformat_minor": 5
}
